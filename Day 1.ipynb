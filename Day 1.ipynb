{
 "cells": [
  {
   "cell_type": "code",
   "execution_count": 1,
   "metadata": {},
   "outputs": [],
   "source": [
    "input = open(\"Day1_input.txt\", \"r\")\n",
    "\n",
    "expense_report = []\n",
    "for line in input:\n",
    "    stripped_line = line.strip()\n",
    "    expense_report.append(int(stripped_line))\n",
    "\n",
    "#print (expense_report)"
   ]
  },
  {
   "cell_type": "code",
   "execution_count": 2,
   "metadata": {},
   "outputs": [],
   "source": [
    "list1 = [1721,\n",
    "979,\n",
    "366,\n",
    "299,\n",
    "675,\n",
    "1456]\n",
    "\n",
    "#print (list)"
   ]
  },
  {
   "cell_type": "code",
   "execution_count": 3,
   "metadata": {},
   "outputs": [],
   "source": [
    "# #testing with the sample list to make sure I know what's up\n",
    "# counting = []\n",
    "# for row in list1[:-1]:\n",
    "#     next_index = list1.index(row) +1\n",
    "#     for row2 in list1[next_index:]:\n",
    "#         s1 = row + row2\n",
    "#         counting.append(s1)\n",
    "#         if s1 == 2020:\n",
    "#             print (row, row2)\n",
    "#             break\n",
    "\n",
    "# print (counting)\n",
    "# len(counting)"
   ]
  },
  {
   "cell_type": "code",
   "execution_count": 4,
   "metadata": {},
   "outputs": [],
   "source": [
    "def func_2020(a_list):\n",
    "    counting = []\n",
    "    for row in a_list[:-1]:\n",
    "        next_index = a_list.index(row)+1\n",
    "        for row2 in a_list[next_index:]:\n",
    "            s1 = row + row2\n",
    "            counting.append(s1)\n",
    "            if s1 == 2020:\n",
    "                print('Numbers are ' + str(row) + ' and ' + str(row2)) \n",
    "                print('Product is ' + str(row*row2))"
   ]
  },
  {
   "cell_type": "code",
   "execution_count": 5,
   "metadata": {},
   "outputs": [
    {
     "name": "stdout",
     "output_type": "stream",
     "text": [
      "Numbers are 1721 and 299\n",
      "Product is 514579\n"
     ]
    }
   ],
   "source": [
    "func_2020(list1)"
   ]
  },
  {
   "cell_type": "code",
   "execution_count": 6,
   "metadata": {},
   "outputs": [
    {
     "name": "stdout",
     "output_type": "stream",
     "text": [
      "Numbers are 2019 and 1\n",
      "Product is 2019\n"
     ]
    }
   ],
   "source": [
    "list2 = [2018, 2019, 4, 3, 1]\n",
    "func_2020(list2)"
   ]
  },
  {
   "cell_type": "code",
   "execution_count": 7,
   "metadata": {},
   "outputs": [
    {
     "name": "stdout",
     "output_type": "stream",
     "text": [
      "Numbers are 1 and 2019\n",
      "Product is 2019\n"
     ]
    }
   ],
   "source": [
    "list_3 = [2, 3, 4, 5, 1, 2019]\n",
    "func_2020(list_3)"
   ]
  },
  {
   "cell_type": "code",
   "execution_count": 8,
   "metadata": {},
   "outputs": [
    {
     "name": "stdout",
     "output_type": "stream",
     "text": [
      "Numbers are 1191 and 829\n",
      "Product is 987339\n"
     ]
    }
   ],
   "source": [
    "func_2020(expense_report)"
   ]
  },
  {
   "cell_type": "code",
   "execution_count": 9,
   "metadata": {},
   "outputs": [],
   "source": [
    "def subset_sum(numbers, target, partial=[], partial_sum=0):\n",
    "    if partial_sum == target:\n",
    "        yield partial\n",
    "    if partial_sum >= target:\n",
    "        return\n",
    "    for i, n in enumerate(numbers):\n",
    "        remaining = numbers[i + 1:]\n",
    "        yield from subset_sum(remaining, target, partial + [n], partial_sum + n)"
   ]
  },
  {
   "cell_type": "code",
   "execution_count": 11,
   "metadata": {},
   "outputs": [],
   "source": [
    "list_4 = [2018, 2017, 2019, 2, 1]\n",
    "ee =subset_sum(list_4, 2020)"
   ]
  },
  {
   "cell_type": "code",
   "execution_count": 12,
   "metadata": {},
   "outputs": [
    {
     "name": "stdout",
     "output_type": "stream",
     "text": [
      "<generator object subset_sum at 0x00000274F6756C80>\n"
     ]
    }
   ],
   "source": []
  },
  {
   "cell_type": "code",
   "execution_count": null,
   "metadata": {},
   "outputs": [],
   "source": []
  }
 ],
 "metadata": {
  "kernelspec": {
   "display_name": "Python 3",
   "language": "python",
   "name": "python3"
  },
  "language_info": {
   "codemirror_mode": {
    "name": "ipython",
    "version": 3
   },
   "file_extension": ".py",
   "mimetype": "text/x-python",
   "name": "python",
   "nbconvert_exporter": "python",
   "pygments_lexer": "ipython3",
   "version": "3.8.3"
  }
 },
 "nbformat": 4,
 "nbformat_minor": 4
}
