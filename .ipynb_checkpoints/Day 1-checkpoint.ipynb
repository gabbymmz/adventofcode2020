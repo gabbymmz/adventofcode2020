{
 "cells": [
  {
   "cell_type": "code",
   "execution_count": 1,
   "metadata": {},
   "outputs": [],
   "source": [
    "input = open(\"Day1_input.txt\", \"r\")\n",
    "\n",
    "expense_report = []\n",
    "for line in input:\n",
    "    stripped_line = line.strip()\n",
    "    expense_report.append(int(stripped_line))\n",
    "\n",
    "#print (expense_report)"
   ]
  },
  {
   "cell_type": "code",
   "execution_count": 2,
   "metadata": {},
   "outputs": [],
   "source": [
    "list1 = [1721,\n",
    "979,\n",
    "366,\n",
    "299,\n",
    "675,\n",
    "1456]\n",
    "\n",
    "#print (list)"
   ]
  },
  {
   "cell_type": "code",
   "execution_count": 3,
   "metadata": {},
   "outputs": [],
   "source": [
    "# #testing with the sample list to make sure I know what's up\n",
    "# counting = []\n",
    "# for row in list1[:-1]:\n",
    "#     next_index = list1.index(row) +1\n",
    "#     for row2 in list1[next_index:]:\n",
    "#         s1 = row + row2\n",
    "#         counting.append(s1)\n",
    "#         if s1 == 2020:\n",
    "#             print (row, row2)\n",
    "#             break\n",
    "\n",
    "# print (counting)\n",
    "# len(counting)"
   ]
  },
  {
   "cell_type": "code",
   "execution_count": 4,
   "metadata": {},
   "outputs": [],
   "source": [
    "def func_2020(a_list):\n",
    "    counting = []\n",
    "    for row in a_list[:-1]:\n",
    "        next_index = a_list.index(row)+1\n",
    "        for row2 in a_list[next_index:]:\n",
    "            s1 = row + row2\n",
    "            counting.append(s1)\n",
    "            if s1 == 2020:\n",
    "                print('Numbers are ' + str(row) + ' and ' + str(row2)) \n",
    "                print('Product is ' + str(row*row2))"
   ]
  },
  {
   "cell_type": "code",
   "execution_count": 5,
   "metadata": {},
   "outputs": [
    {
     "name": "stdout",
     "output_type": "stream",
     "text": [
      "Numbers are 1721 and 299\n",
      "Product is 514579\n"
     ]
    }
   ],
   "source": [
    "func_2020(list1)"
   ]
  },
  {
   "cell_type": "code",
   "execution_count": 6,
   "metadata": {},
   "outputs": [
    {
     "name": "stdout",
     "output_type": "stream",
     "text": [
      "Numbers are 2019 and 1\n",
      "Product is 2019\n"
     ]
    }
   ],
   "source": [
    "list2 = [2018, 2019, 4, 3, 1]\n",
    "func_2020(list2)"
   ]
  },
  {
   "cell_type": "code",
   "execution_count": 7,
   "metadata": {},
   "outputs": [
    {
     "name": "stdout",
     "output_type": "stream",
     "text": [
      "Numbers are 1 and 2019\n",
      "Product is 2019\n"
     ]
    }
   ],
   "source": [
    "list_3 = [2, 3, 4, 5, 1, 2019]\n",
    "func_2020(list_3)"
   ]
  },
  {
   "cell_type": "code",
   "execution_count": 8,
   "metadata": {},
   "outputs": [
    {
     "name": "stdout",
     "output_type": "stream",
     "text": [
      "Numbers are 1191 and 829\n",
      "Product is 987339\n"
     ]
    }
   ],
   "source": [
    "func_2020(expense_report)"
   ]
  },
  {
   "cell_type": "code",
   "execution_count": 24,
   "metadata": {},
   "outputs": [],
   "source": [
    "import numpy as np\n",
    "def subset_sum(numbers, target, partial=[]):\n",
    "    s = sum(partial)\n",
    "\n",
    "    # check if the partial sum is equals to target\n",
    "    if s == target: \n",
    "        if len(partial) == 3:\n",
    "            print (partial, target)\n",
    "            print (\"Product is \" + str(np.prod(partial)))\n",
    "    if s >= target:\n",
    "        return  # if we reach the number why bother to continue\n",
    "\n",
    "    for i in range(len(numbers)):\n",
    "        n = numbers[i]\n",
    "        remaining = numbers[i+1:]\n",
    "        subset_sum(remaining, target, partial + [n]) "
   ]
  },
  {
   "cell_type": "code",
   "execution_count": 25,
   "metadata": {},
   "outputs": [
    {
     "name": "stdout",
     "output_type": "stream",
     "text": [
      "[2, 2017, 1] 2020\n",
      "Product is 4034\n",
      "[1, 2016, 3] 2020\n",
      "Product is 6048\n"
     ]
    }
   ],
   "source": [
    "list4 = [2, 2017, 1, 2016, 3, 2018, 2019]\n",
    "subset_sum(list4, 2020)"
   ]
  },
  {
   "cell_type": "code",
   "execution_count": 26,
   "metadata": {},
   "outputs": [
    {
     "name": "stdout",
     "output_type": "stream",
     "text": [
      "[945, 657, 418] 2020\n",
      "Product is 259521570\n"
     ]
    }
   ],
   "source": [
    "subset_sum(expense_report, 2020)"
   ]
  }
 ],
 "metadata": {
  "kernelspec": {
   "display_name": "Python 3",
   "language": "python",
   "name": "python3"
  },
  "language_info": {
   "codemirror_mode": {
    "name": "ipython",
    "version": 3
   },
   "file_extension": ".py",
   "mimetype": "text/x-python",
   "name": "python",
   "nbconvert_exporter": "python",
   "pygments_lexer": "ipython3",
   "version": "3.8.3"
  }
 },
 "nbformat": 4,
 "nbformat_minor": 4
}
